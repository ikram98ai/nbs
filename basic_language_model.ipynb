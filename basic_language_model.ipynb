{
 "cells": [
  {
   "cell_type": "code",
   "execution_count": 1,
   "id": "5d4a9293",
   "metadata": {},
   "outputs": [],
   "source": [
    "import numpy as np\n",
    "import torch\n",
    "import torch.nn as nn\n",
    "from torch.nn import functional as F\n",
    "import matplotlib.pyplot as plt \n",
    "%matplotlib inline"
   ]
  },
  {
   "cell_type": "markdown",
   "id": "51035f84",
   "metadata": {},
   "source": [
    "## Preparing Data"
   ]
  },
  {
   "cell_type": "code",
   "execution_count": 2,
   "id": "0328cea1",
   "metadata": {},
   "outputs": [],
   "source": [
    "with open('input.txt','r', encoding='utf-8') as f:\n",
    "    text = f.read()"
   ]
  },
  {
   "cell_type": "code",
   "execution_count": 3,
   "id": "f9c299c0",
   "metadata": {},
   "outputs": [
    {
     "name": "stdout",
     "output_type": "stream",
     "text": [
      "First Citizen:\n",
      "Before we proceed any further, hear me speak.\n",
      "\n",
      "All:\n",
      "Speak, speak.\n",
      "\n",
      "First Citizen:\n",
      "You\n"
     ]
    }
   ],
   "source": [
    "print(text[:100])"
   ]
  },
  {
   "cell_type": "code",
   "execution_count": 4,
   "id": "0ff01357",
   "metadata": {},
   "outputs": [
    {
     "data": {
      "text/plain": [
       "1115394"
      ]
     },
     "execution_count": 4,
     "metadata": {},
     "output_type": "execute_result"
    }
   ],
   "source": [
    "len(text)"
   ]
  },
  {
   "cell_type": "code",
   "execution_count": 5,
   "id": "197a2850",
   "metadata": {},
   "outputs": [
    {
     "name": "stdout",
     "output_type": "stream",
     "text": [
      "\n",
      " !$&',-.3:;?ABCDEFGHIJKLMNOPQRSTUVWXYZabcdefghijklmnopqrstuvwxyz\n",
      "65\n"
     ]
    }
   ],
   "source": [
    "chars = sorted(list(set(text)))\n",
    "vocab_size = len(chars)\n",
    "print(''.join(chars))\n",
    "print(vocab_size)"
   ]
  },
  {
   "cell_type": "code",
   "execution_count": 6,
   "id": "f2aab1c7",
   "metadata": {},
   "outputs": [],
   "source": [
    "stoi = {s:i for i,s in enumerate(chars)}\n",
    "itos = {i:s for i,s in enumerate(chars)}\n",
    "encode = lambda s: [stoi[c] for c in s]\n",
    "decode = lambda l: ''.join([itos[i] for i in l])"
   ]
  },
  {
   "cell_type": "code",
   "execution_count": 7,
   "id": "25e145aa",
   "metadata": {},
   "outputs": [
    {
     "data": {
      "text/plain": [
       "'i love deep learning'"
      ]
     },
     "execution_count": 7,
     "metadata": {},
     "output_type": "execute_result"
    }
   ],
   "source": [
    "decode(encode('i love deep learning'))"
   ]
  },
  {
   "cell_type": "code",
   "execution_count": 8,
   "id": "a07a4dcf",
   "metadata": {},
   "outputs": [],
   "source": [
    "data = torch.tensor(encode(text),dtype=torch.long)"
   ]
  },
  {
   "cell_type": "code",
   "execution_count": 9,
   "id": "51baa142",
   "metadata": {},
   "outputs": [
    {
     "data": {
      "text/plain": [
       "(1115394, torch.int64)"
      ]
     },
     "execution_count": 9,
     "metadata": {},
     "output_type": "execute_result"
    }
   ],
   "source": [
    "len(data), data.dtype"
   ]
  },
  {
   "cell_type": "code",
   "execution_count": 10,
   "id": "17721c0e",
   "metadata": {},
   "outputs": [],
   "source": [
    "n = int(len(data)*0.9)\n",
    "train_data = data[:n]\n",
    "val_data = data[n:]"
   ]
  },
  {
   "cell_type": "code",
   "execution_count": 11,
   "id": "61feab06",
   "metadata": {},
   "outputs": [],
   "source": [
    "torch.manual_seed(1337)\n",
    "batch_size = 4\n",
    "block_size = 8\n",
    "\n",
    "def get_batch(split):\n",
    "    data = train_data if split == 'train' else val_data\n",
    "    ix = torch.randint(len(data)-block_size,(batch_size,))\n",
    "    x = torch.stack([data[i:i+block_size] for i in ix])\n",
    "    y = torch.stack([data[i+1:i+block_size+1] for i in ix])\n",
    "    return x,y"
   ]
  },
  {
   "cell_type": "code",
   "execution_count": 12,
   "id": "71d811c6",
   "metadata": {},
   "outputs": [
    {
     "name": "stdout",
     "output_type": "stream",
     "text": [
      "torch.Size([4, 8]) torch.Size([4, 8])\n",
      "[24] --> 43\n",
      "[24, 43] --> 58\n",
      "[24, 43, 58] --> 5\n",
      "[24, 43, 58, 5] --> 57\n",
      "[24, 43, 58, 5, 57] --> 1\n",
      "[24, 43, 58, 5, 57, 1] --> 46\n",
      "[24, 43, 58, 5, 57, 1, 46] --> 43\n",
      "[24, 43, 58, 5, 57, 1, 46, 43] --> 39\n",
      "[44] --> 53\n",
      "[44, 53] --> 56\n",
      "[44, 53, 56] --> 1\n",
      "[44, 53, 56, 1] --> 58\n",
      "[44, 53, 56, 1, 58] --> 46\n",
      "[44, 53, 56, 1, 58, 46] --> 39\n",
      "[44, 53, 56, 1, 58, 46, 39] --> 58\n",
      "[44, 53, 56, 1, 58, 46, 39, 58] --> 1\n"
     ]
    }
   ],
   "source": [
    "xb,yb = get_batch('train')\n",
    "print(xb.shape,yb.shape)\n",
    "for i in range(batch_size-2):\n",
    "    for j in range(block_size):\n",
    "        print(xb[i,:j+1].tolist(),'-->',yb[i,j].item())"
   ]
  },
  {
   "cell_type": "markdown",
   "id": "165136e4",
   "metadata": {},
   "source": [
    "## Bigram Language Model"
   ]
  },
  {
   "cell_type": "code",
   "execution_count": 13,
   "id": "ef83bfc3",
   "metadata": {},
   "outputs": [],
   "source": [
    "torch.manual_seed(1337)\n",
    "\n",
    "class BigramLanguageModel(nn.Module):\n",
    "    def __init__(self,vocab_size):\n",
    "        super().__init__()\n",
    "        self.token_embedding_table = nn.Embedding(vocab_size,vocab_size)\n",
    "        \n",
    "    def forward(self,idx,targets =None):\n",
    "        logits = self.token_embedding_table(idx) # B,T,C\n",
    "        if targets is None:\n",
    "            loss = None\n",
    "        else:\n",
    "            B,T,C = logits.shape\n",
    "            logits = logits.view(B*T,C)\n",
    "            targets = targets.view(B*T)\n",
    "            loss = F.cross_entropy(logits,targets)\n",
    "        return logits, loss\n",
    "    \n",
    "    def generate(self,idx,max_new_token):\n",
    "        for _ in range(max_new_token):\n",
    "            logits,_ = self(idx)\n",
    "            logits =logits[:,-1,:] # B,C\n",
    "            probs = F.softmax(logits,dim=-1)\n",
    "            idx_next = torch.multinomial(probs,num_samples=1)\n",
    "            idx = torch.cat((idx,idx_next),dim=1)\n",
    "        return idx\n",
    "            "
   ]
  },
  {
   "cell_type": "code",
   "execution_count": 14,
   "id": "5c1aa926",
   "metadata": {},
   "outputs": [],
   "source": [
    "m = BigramLanguageModel(vocab_size)"
   ]
  },
  {
   "cell_type": "code",
   "execution_count": 15,
   "id": "20e05b4f",
   "metadata": {},
   "outputs": [],
   "source": [
    "optimizor = torch.optim.AdamW(m.parameters(),lr=1e-3)"
   ]
  },
  {
   "cell_type": "code",
   "execution_count": 16,
   "id": "6d371803",
   "metadata": {},
   "outputs": [
    {
     "name": "stdout",
     "output_type": "stream",
     "text": [
      "4.648484230041504\n",
      "3.7026751041412354\n",
      "3.1231141090393066\n",
      "2.7292535305023193\n",
      "2.5700602531433105\n",
      "2.491703748703003\n",
      "2.4764161109924316\n",
      "2.4187257289886475\n"
     ]
    }
   ],
   "source": [
    "batch_size = 32\n",
    "for i in range(8000):\n",
    "    xb,yb = get_batch('train')\n",
    "    logits,loss = m(xb,yb)\n",
    "    optimizor.zero_grad(set_to_none=True)\n",
    "    loss.backward()\n",
    "    optimizor.step()\n",
    "    if i%1000==0:\n",
    "        print(loss.item())"
   ]
  },
  {
   "cell_type": "code",
   "execution_count": 17,
   "id": "f8ca33f3",
   "metadata": {},
   "outputs": [
    {
     "name": "stdout",
     "output_type": "stream",
     "text": [
      "\n",
      "Do  t houbar d lle ll tovan thale ermof arenore Le se my ive est irno sthes st\n",
      "I be\n",
      "ObRA:\n",
      "KUSBins.\n",
      "Pun\n",
      "fouthajur,\n",
      "SI'd\n",
      "Agrnd thode an, ar tong-\n",
      "An buirelf the wit\n",
      "CKIOn w?\n",
      "'l eiliow\n",
      "DWe t amy tour bee\n"
     ]
    }
   ],
   "source": [
    "idx = torch.zeros((1,1),dtype=torch.long)\n",
    "print(decode(m.generate(idx,200)[0].tolist()))"
   ]
  },
  {
   "cell_type": "markdown",
   "id": "982533fd",
   "metadata": {},
   "source": [
    "### The mathematical trick in Self-attention"
   ]
  },
  {
   "cell_type": "code",
   "execution_count": 22,
   "id": "7171bc3a",
   "metadata": {},
   "outputs": [
    {
     "data": {
      "text/plain": [
       "torch.Size([4, 8, 32])"
      ]
     },
     "execution_count": 22,
     "metadata": {},
     "output_type": "execute_result"
    }
   ],
   "source": [
    "torch.manual_seed(1337)\n",
    "B,T,C = 4,8,32\n",
    "x = torch.randn(B,T,C)\n",
    "x.shape"
   ]
  },
  {
   "cell_type": "code",
   "execution_count": 23,
   "id": "f46a249a",
   "metadata": {},
   "outputs": [
    {
     "data": {
      "text/plain": [
       "torch.Size([4, 8, 32])"
      ]
     },
     "execution_count": 23,
     "metadata": {},
     "output_type": "execute_result"
    }
   ],
   "source": [
    "# version 1\n",
    "xbow = torch.zeros((B,T,C))\n",
    "for b in range(B):\n",
    "    for t in range(T):\n",
    "        xprev = x[b,:t+1] # t,C\n",
    "        xbow[b,t] = torch.mean(xprev,0)\n",
    "xbow.shape"
   ]
  },
  {
   "cell_type": "code",
   "execution_count": 24,
   "id": "a8b26805",
   "metadata": {},
   "outputs": [
    {
     "data": {
      "text/plain": [
       "torch.Size([4, 8, 32])"
      ]
     },
     "execution_count": 24,
     "metadata": {},
     "output_type": "execute_result"
    }
   ],
   "source": [
    "# version 2: using matrix multiply\n",
    "wei = torch.tril(torch.ones(T,T))\n",
    "wei= wei/wei.sum(1,keepdim=True)\n",
    "xbow2 = wei @ x\n",
    "xbow2.shape"
   ]
  },
  {
   "cell_type": "code",
   "execution_count": 25,
   "id": "40eaa100",
   "metadata": {},
   "outputs": [
    {
     "data": {
      "text/plain": [
       "torch.Size([4, 8, 32])"
      ]
     },
     "execution_count": 25,
     "metadata": {},
     "output_type": "execute_result"
    }
   ],
   "source": [
    "# version 3: use softmax\n",
    "tril = torch.tril(torch.ones(T,T))\n",
    "wei = torch.zeros(T,T)\n",
    "wei = wei.masked_fill(tril==0,float('-inf'))\n",
    "wei = F.softmax(wei,dim=-1)\n",
    "xbow3 = wei @ x\n",
    "xbow3.shape"
   ]
  },
  {
   "cell_type": "code",
   "execution_count": 29,
   "id": "b466c482",
   "metadata": {},
   "outputs": [
    {
     "data": {
      "text/plain": [
       "torch.Size([4, 8, 16])"
      ]
     },
     "execution_count": 29,
     "metadata": {},
     "output_type": "execute_result"
    }
   ],
   "source": [
    "# version 4: use single head self-attention\n",
    "head_size = 16\n",
    "key = nn.Linear(C,head_size,bias=False)\n",
    "query = nn.Linear(C,head_size,bias=False)\n",
    "value = nn.Linear(C,head_size,bias=False)\n",
    "\n",
    "k = key(x)  # (B,T,C)@ (C,16) ---> B,T,16\n",
    "q = query(x)# (B,T,C)@ (C,16) ---> B,T,16\n",
    "wei = q @ k.transpose(-2,-1) # (B,T,16) @ (B,16,T) ---> (B,T,T)\n",
    "\n",
    "tril = torch.tril(torch.ones(T,T))\n",
    "wei = wei.masked_fill(tril==0,float('-inf'))\n",
    "wei = F.softmax(wei,dim=-1)\n",
    "\n",
    "v = value(x) #(B,T,C)@ (C,16) ---> B,T,16\n",
    "out = wei @ v # (T,T) @ (B,T,16) ---> B,T,16\n",
    "out.shape\n"
   ]
  }
 ],
 "metadata": {
  "kernelspec": {
   "display_name": "Python 3 (ipykernel)",
   "language": "python",
   "name": "python3"
  },
  "language_info": {
   "codemirror_mode": {
    "name": "ipython",
    "version": 3
   },
   "file_extension": ".py",
   "mimetype": "text/x-python",
   "name": "python",
   "nbconvert_exporter": "python",
   "pygments_lexer": "ipython3",
   "version": "3.11.5"
  }
 },
 "nbformat": 4,
 "nbformat_minor": 5
}
